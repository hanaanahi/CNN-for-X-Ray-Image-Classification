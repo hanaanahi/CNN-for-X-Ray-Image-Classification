{
  "nbformat": 4,
  "nbformat_minor": 0,
  "metadata": {
    "colab": {
      "provenance": []
    },
    "kernelspec": {
      "name": "python3",
      "display_name": "Python 3"
    },
    "language_info": {
      "name": "python"
    }
  },
  "cells": [
    {
      "cell_type": "markdown",
      "source": [
        "Data from Kaggle: [Pneumonia Dataset](https://www.kaggle.com/datasets/paultimothymooney/chest-xray-pneumonia) and [Tuberculosis Dataset](https://www.kaggle.com/datasets/tawsifurrahman/tuberculosis-tb-chest-xray-dataset/code)\n"
      ],
      "metadata": {
        "id": "uVRtN3KZYwAw"
      }
    },
    {
      "cell_type": "markdown",
      "source": [
        "# PRE-PROCESSING"
      ],
      "metadata": {
        "id": "m6R6ozLx-ATq"
      }
    },
    {
      "cell_type": "code",
      "source": [
        "from google.colab import drive\n",
        "drive.mount('/content/drive')"
      ],
      "metadata": {
        "colab": {
          "base_uri": "https://localhost:8080/"
        },
        "id": "CfTpM1LHAbQ4",
        "outputId": "8bff583f-1d47-46dd-ee0a-632b349755ed"
      },
      "execution_count": 1,
      "outputs": [
        {
          "output_type": "stream",
          "name": "stdout",
          "text": [
            "Mounted at /content/drive\n"
          ]
        }
      ]
    },
    {
      "cell_type": "code",
      "source": [
        "import os\n",
        "import numpy as np\n",
        "import pandas as pd\n",
        "import seaborn as sns\n",
        "import matplotlib.pyplot as plt\n",
        "import tensorflow as tf\n",
        "from tensorflow import keras\n",
        "from tensorflow.keras import layers\n",
        "from tensorflow.keras.models import Sequential, load_model\n",
        "from tensorflow.keras.layers import Dense, Flatten, Conv2D, MaxPooling2D, BatchNormalization\n",
        "from tensorflow.keras.preprocessing import image\n",
        "from tensorflow.keras.preprocessing.image import ImageDataGenerator\n",
        "from tensorflow.keras.callbacks import EarlyStopping\n",
        "\n",
        "print(\"packages are imported\")"
      ],
      "metadata": {
        "colab": {
          "base_uri": "https://localhost:8080/"
        },
        "id": "UKBi0vAB_L9A",
        "outputId": "584b6741-722d-4cf8-9197-38a21c834455"
      },
      "execution_count": 2,
      "outputs": [
        {
          "output_type": "stream",
          "name": "stdout",
          "text": [
            "packages are imported\n"
          ]
        }
      ]
    },
    {
      "cell_type": "code",
      "source": [
        "# Train dataset\n",
        "train_dataset = tf.keras.preprocessing.image_dataset_from_directory(\n",
        "    '/content/drive/MyDrive/CS123B_Project/train',\n",
        "    validation_split=0.2,\n",
        "    subset=\"training\",\n",
        "    seed=123,\n",
        "    labels=\"inferred\",\n",
        "    label_mode=\"int\",\n",
        "    image_size=(224, 224),\n",
        "    batch_size=32\n",
        ")\n",
        "\n",
        "# Validation dataset\n",
        "val_dataset = tf.keras.preprocessing.image_dataset_from_directory(\n",
        "    '/content/drive/MyDrive/CS123B_Project/train',\n",
        "    validation_split=0.2,\n",
        "    subset=\"validation\",\n",
        "    seed=123,\n",
        "    labels=\"inferred\",\n",
        "    label_mode=\"int\",\n",
        "    image_size=(224, 224),\n",
        "    batch_size=32\n",
        ")\n",
        "\n",
        "# Load test data\n",
        "test_dataset = tf.keras.preprocessing.image_dataset_from_directory(\n",
        "    '/content/drive/MyDrive/CS123B_Project/test',\n",
        "    labels='inferred',\n",
        "    label_mode='int',\n",
        "    image_size=(224, 224),\n",
        "    batch_size=32,\n",
        "    shuffle=False\n",
        ")"
      ],
      "metadata": {
        "colab": {
          "base_uri": "https://localhost:8080/"
        },
        "id": "hhHYvOcfp2tS",
        "outputId": "60bf58ca-5e25-478d-9bc7-57d485b647dd"
      },
      "execution_count": 3,
      "outputs": [
        {
          "output_type": "stream",
          "name": "stdout",
          "text": [
            "Found 720 files belonging to 3 classes.\n",
            "Using 576 files for training.\n",
            "Found 720 files belonging to 3 classes.\n",
            "Using 144 files for validation.\n",
            "Found 180 files belonging to 3 classes.\n"
          ]
        }
      ]
    },
    {
      "cell_type": "markdown",
      "source": [
        "# CNN"
      ],
      "metadata": {
        "id": "rwcChszyO4Fq"
      }
    },
    {
      "cell_type": "code",
      "source": [
        "import tensorflow as tf\n",
        "\n",
        "# 1. Load DenseNet121 without top\n",
        "base_model = tf.keras.applications.DenseNet121(\n",
        "    input_shape=(224, 224, 3),\n",
        "    include_top=False,\n",
        "    pooling=None,  # no avg pooling yet\n",
        "    weights='imagenet'\n",
        ")\n",
        "\n",
        "# 2. Freeze the base model (optional at first)\n",
        "base_model.trainable = False\n",
        "\n",
        "# 3. Add your own classifier on top\n",
        "inputs = tf.keras.Input(shape=(224, 224, 3))\n",
        "x = tf.keras.applications.densenet.preprocess_input(inputs)\n",
        "x = base_model(x, training=False)\n",
        "x = tf.keras.layers.GlobalAveragePooling2D()(x)\n",
        "x = tf.keras.layers.Dense(256, activation='relu')(x)  # optional dense layer\n",
        "x = tf.keras.layers.Dropout(0.5)(x)  # optional regularization\n",
        "outputs = tf.keras.layers.Dense(3, activation='softmax')(x)  # final output layer\n",
        "\n",
        "# Build the full model\n",
        "model = tf.keras.Model(inputs, outputs)\n",
        "\n",
        "# 4. Compile the model\n",
        "model.compile(\n",
        "    optimizer='adam',\n",
        "    loss='sparse_categorical_crossentropy',  # or categorical_crossentropy\n",
        "    metrics=['accuracy']\n",
        ")\n"
      ],
      "metadata": {
        "id": "7v-iOgiFUpZI",
        "colab": {
          "base_uri": "https://localhost:8080/"
        },
        "outputId": "8172408f-3ec5-4dfc-df8e-5732b9ed437f"
      },
      "execution_count": 4,
      "outputs": [
        {
          "output_type": "stream",
          "name": "stdout",
          "text": [
            "Downloading data from https://storage.googleapis.com/tensorflow/keras-applications/densenet/densenet121_weights_tf_dim_ordering_tf_kernels_notop.h5\n",
            "\u001b[1m29084464/29084464\u001b[0m \u001b[32m━━━━━━━━━━━━━━━━━━━━\u001b[0m\u001b[37m\u001b[0m \u001b[1m1s\u001b[0m 0us/step\n"
          ]
        }
      ]
    },
    {
      "cell_type": "code",
      "source": [
        "#NOTE: This step will take about 10 minutes to run\n",
        "\n",
        "history = model.fit(\n",
        "    train_dataset,\n",
        "    validation_data=val_dataset,\n",
        "    epochs=3,\n",
        "    verbose=1    # show progress bar\n",
        ")\n",
        "\n"
      ],
      "metadata": {
        "colab": {
          "base_uri": "https://localhost:8080/"
        },
        "id": "QAr-eG21vB_N",
        "outputId": "9db575db-8c49-4fa8-b1c5-be5b89f375b4"
      },
      "execution_count": 5,
      "outputs": [
        {
          "output_type": "stream",
          "name": "stdout",
          "text": [
            "Epoch 1/3\n",
            "\u001b[1m18/18\u001b[0m \u001b[32m━━━━━━━━━━━━━━━━━━━━\u001b[0m\u001b[37m\u001b[0m \u001b[1m189s\u001b[0m 9s/step - accuracy: 0.5184 - loss: 1.1806 - val_accuracy: 0.8819 - val_loss: 0.3201\n",
            "Epoch 2/3\n",
            "\u001b[1m18/18\u001b[0m \u001b[32m━━━━━━━━━━━━━━━━━━━━\u001b[0m\u001b[37m\u001b[0m \u001b[1m185s\u001b[0m 9s/step - accuracy: 0.8365 - loss: 0.3580 - val_accuracy: 0.8958 - val_loss: 0.2636\n",
            "Epoch 3/3\n",
            "\u001b[1m18/18\u001b[0m \u001b[32m━━━━━━━━━━━━━━━━━━━━\u001b[0m\u001b[37m\u001b[0m \u001b[1m196s\u001b[0m 8s/step - accuracy: 0.8915 - loss: 0.2400 - val_accuracy: 0.9444 - val_loss: 0.1985\n"
          ]
        }
      ]
    },
    {
      "cell_type": "markdown",
      "source": [
        "#ANALYSIS"
      ],
      "metadata": {
        "id": "NLAqsXfOvkyN"
      }
    },
    {
      "cell_type": "code",
      "source": [
        "# Evaluate on validation dataset\n",
        "results = model.evaluate(val_dataset)\n",
        "# Assuming accuracy is the second element\n",
        "accuracy = results[1]\n",
        "print(f\"Validation Accuracy: {accuracy * 100:.2f}%\")\n"
      ],
      "metadata": {
        "colab": {
          "base_uri": "https://localhost:8080/"
        },
        "id": "nWBX7xdzppFU",
        "outputId": "98775cc3-a9be-4bb7-9646-8716aeaed9b1"
      },
      "execution_count": 7,
      "outputs": [
        {
          "output_type": "stream",
          "name": "stdout",
          "text": [
            "\u001b[1m5/5\u001b[0m \u001b[32m━━━━━━━━━━━━━━━━━━━━\u001b[0m\u001b[37m\u001b[0m \u001b[1m28s\u001b[0m 5s/step - accuracy: 0.9550 - loss: 0.1732\n",
            "Validation Accuracy: 94.44%\n"
          ]
        }
      ]
    },
    {
      "cell_type": "code",
      "source": [
        "# Evaluate on test dataset\n",
        "test_loss, test_accuracy = model.evaluate(test_dataset)\n",
        "print(f\"Test Accuracy: {test_accuracy*100:.2f}%\")"
      ],
      "metadata": {
        "colab": {
          "base_uri": "https://localhost:8080/"
        },
        "id": "lOmCM-YxvJZg",
        "outputId": "cb2b1826-e805-41fb-abba-0baf316d809d"
      },
      "execution_count": 8,
      "outputs": [
        {
          "output_type": "stream",
          "name": "stdout",
          "text": [
            "\u001b[1m6/6\u001b[0m \u001b[32m━━━━━━━━━━━━━━━━━━━━\u001b[0m\u001b[37m\u001b[0m \u001b[1m52s\u001b[0m 7s/step - accuracy: 0.9446 - loss: 0.1920\n",
            "Test Accuracy: 93.89%\n"
          ]
        }
      ]
    },
    {
      "cell_type": "code",
      "source": [
        "import pandas as pd\n",
        "import matplotlib.pyplot as plt\n",
        "\n",
        "history_df = pd.DataFrame(history.history)\n",
        "\n",
        "plt.figure(figsize=(10, 6))\n",
        "plt.plot(history_df['loss'], label='Training Loss')\n",
        "plt.plot(history_df['val_loss'], label='Validation Loss')\n",
        "plt.axhline(y=test_loss, color='red', linestyle='--', label='Test Loss')\n",
        "plt.title('Model Loss')\n",
        "plt.xlabel('Epoch')\n",
        "plt.ylabel('Loss')\n",
        "plt.legend()\n",
        "plt.grid(True)\n",
        "plt.show()"
      ],
      "metadata": {
        "colab": {
          "base_uri": "https://localhost:8080/",
          "height": 564
        },
        "id": "pUfqMxi5vLEo",
        "outputId": "08d79d8d-c999-4efd-983b-304b0166a88f"
      },
      "execution_count": 9,
      "outputs": [
        {
          "output_type": "display_data",
          "data": {
            "text/plain": [
              "<Figure size 1000x600 with 1 Axes>"
            ],
            "image/png": "[encoded data removed]"
          },
          "metadata": {}
        }
      ]
    },
    {
      "cell_type": "markdown",
      "source": [
        "## Example Case"
      ],
      "metadata": {
        "id": "OxX6HMhg6s8A"
      }
    },
    {
      "cell_type": "code",
      "source": [
        "# 1. Load and preprocess the X-ray image\n",
        "img_path = '/content/drive/MyDrive/Example_Patient_Xray.jpeg'\n",
        "img = image.load_img(img_path, target_size=(224, 224))\n",
        "img_array = image.img_to_array(img)\n",
        "img_array = np.expand_dims(img_array, axis=0)\n",
        "img_array = tf.keras.applications.densenet.preprocess_input(img_array)\n",
        "\n",
        "# 2. Predict\n",
        "predictions = model.predict(img_array)\n",
        "\n",
        "# 3. Find the predicted class\n",
        "predicted_class_index = np.argmax(predictions[0])\n",
        "class_names = ['NORMAL', 'PNEUMONIA', 'TUBERCULOSIS']  # your classes\n",
        "predicted_class_name = class_names[predicted_class_index]\n",
        "\n",
        "print(f\" The model predicts: {predicted_class_name}\")"
      ],
      "metadata": {
        "colab": {
          "base_uri": "https://localhost:8080/"
        },
        "id": "DJudRLldzntj",
        "outputId": "73dbfc13-ef9d-4afb-f8f8-cf770c2607f2"
      },
      "execution_count": 11,
      "outputs": [
        {
          "output_type": "stream",
          "name": "stdout",
          "text": [
            "\u001b[1m1/1\u001b[0m \u001b[32m━━━━━━━━━━━━━━━━━━━━\u001b[0m\u001b[37m\u001b[0m \u001b[1m0s\u001b[0m 219ms/step\n",
            " The model predicts: TUBERCULOSIS\n"
          ]
        }
      ]
    }
  ]
}